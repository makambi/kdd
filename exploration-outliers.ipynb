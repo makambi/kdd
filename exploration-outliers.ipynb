{
 "cells": [
  {
   "cell_type": "code",
   "execution_count": 2,
   "metadata": {
    "collapsed": true
   },
   "outputs": [],
   "source": [
    "import pandas as pd\n",
    "import numpy as np\n",
    "from sklearn import preprocessing\n",
    "\n",
    "standart_scaler = preprocessing.StandardScaler(with_mean=True, with_std=True)\n",
    "min_max_scaler = preprocessing.MinMaxScaler()\n",
    "\n",
    "\n",
    "regions = {\n",
    "    \"New England\": [\"CT\", \"ME\", \"MA\", \"NH\", \"RI\", \"VT\"],\n",
    "    \"Mideast\": [\"DE\", \"DC\", \"MD\", \"NJ\", \"NY\", \"PA\"],\n",
    "    \"Great Lakes\": [\"IL\", \"IN\", \"MI\", \"OH\", \"WI\"],\n",
    "    \"Plains\": [\"IA\", \"KS\", \"MN\", \"MO\", \"MS\", \"NE\", \"ND\", \"SD\"],\n",
    "    \"Southeast\": [\"AL\", \"AR\", \"FL\", \"GA\", \"KY\", \"LA\", \"MS\", \"NC\", \"SC\", \"VA\", \"TN\", \"WV\"],\n",
    "    \"Southwest\": [\"AZ\", \"NM\", \"OK\", \"TX\"],\n",
    "    \"Rocky Mountain\": [\"CO\", \"ID\", \"MT\", \"UT\", \"WY\"],\n",
    "    \"Far West\": [\"AK\", \"CA\", \"HI\", \"NV\", \"OR\", \"WA\"]\n",
    "}\n",
    "\n",
    "\n",
    "states_by_region = [{state: region  for state in states}for (region, states) in regions.iteritems()]\n",
    "\n",
    "states = {}\n",
    "for d in states_by_region:\n",
    "    states.update(d)"
   ]
  },
  {
   "cell_type": "code",
   "execution_count": 3,
   "metadata": {
    "collapsed": true
   },
   "outputs": [],
   "source": [
    "%matplotlib inline\n",
    "import matplotlib\n",
    "matplotlib.style.use('ggplot')"
   ]
  },
  {
   "cell_type": "code",
   "execution_count": 4,
   "metadata": {
    "collapsed": false
   },
   "outputs": [],
   "source": [
    "df_submission = pd.read_csv(\"data/sampleSubmission.csv\", index_col=0)\n",
    "df_outcomes = pd.read_csv(\"data/outcomes.csv\", index_col=0)\n",
    "\n",
    "# df_outcomes = df_outcomes_all[pd.notnull(df_outcomes_all.at_least_1_green_donation) \n",
    "#                                  & pd.notnull(df_outcomes_all.three_or_more_non_teacher_referred_donors)]\n",
    "\n",
    "df_projects = pd.read_csv(\"data/projects.csv\", index_col=0)\n",
    "df_test_projects = df_projects[df_projects.index.isin(df_submission.index)]"
   ]
  },
  {
   "cell_type": "code",
   "execution_count": 5,
   "metadata": {
    "collapsed": false
   },
   "outputs": [
    {
     "data": {
      "text/plain": [
       "(619326, 45)"
      ]
     },
     "execution_count": 5,
     "metadata": {},
     "output_type": "execute_result"
    }
   ],
   "source": [
    "df_projects_train = pd.merge(df_projects, df_outcomes, left_index=True,right_index=True,how=\"inner\")\n",
    "df_projects_train.shape"
   ]
  },
  {
   "cell_type": "code",
   "execution_count": 6,
   "metadata": {
    "collapsed": false
   },
   "outputs": [],
   "source": [
    "df_projects_train['is_new'] = df_projects_train.date_posted.apply(lambda date: int(date.split('-')[0]) > 2012)\n",
    "df_projects_train = df_projects_train[df_projects_train.is_new].drop(\"is_new\", axis=1)"
   ]
  },
  {
   "cell_type": "code",
   "execution_count": 7,
   "metadata": {
    "collapsed": false
   },
   "outputs": [
    {
     "name": "stderr",
     "output_type": "stream",
     "text": [
      "/home/makambi/anaconda/lib/python2.7/site-packages/IPython/kernel/__main__.py:11: SettingWithCopyWarning: \n",
      "A value is trying to be set on a copy of a slice from a DataFrame.\n",
      "Try using .loc[row_indexer,col_indexer] = value instead\n",
      "\n",
      "See the the caveats in the documentation: http://pandas.pydata.org/pandas-docs/stable/indexing.html#indexing-view-versus-copy\n",
      "/home/makambi/anaconda/lib/python2.7/site-packages/pandas/core/generic.py:2602: SettingWithCopyWarning: \n",
      "A value is trying to be set on a copy of a slice from a DataFrame\n",
      "\n",
      "See the the caveats in the documentation: http://pandas.pydata.org/pandas-docs/stable/indexing.html#indexing-view-versus-copy\n",
      "  self._update_inplace(new_data)\n",
      "/home/makambi/anaconda/lib/python2.7/site-packages/IPython/kernel/__main__.py:13: SettingWithCopyWarning: \n",
      "A value is trying to be set on a copy of a slice from a DataFrame.\n",
      "Try using .loc[row_indexer,col_indexer] = value instead\n",
      "\n",
      "See the the caveats in the documentation: http://pandas.pydata.org/pandas-docs/stable/indexing.html#indexing-view-versus-copy\n",
      "/home/makambi/anaconda/lib/python2.7/site-packages/IPython/kernel/__main__.py:14: SettingWithCopyWarning: \n",
      "A value is trying to be set on a copy of a slice from a DataFrame\n",
      "\n",
      "See the the caveats in the documentation: http://pandas.pydata.org/pandas-docs/stable/indexing.html#indexing-view-versus-copy\n",
      "/home/makambi/anaconda/lib/python2.7/site-packages/IPython/kernel/__main__.py:31: SettingWithCopyWarning: \n",
      "A value is trying to be set on a copy of a slice from a DataFrame.\n",
      "Try using .loc[row_indexer,col_indexer] = value instead\n",
      "\n",
      "See the the caveats in the documentation: http://pandas.pydata.org/pandas-docs/stable/indexing.html#indexing-view-versus-copy\n",
      "/home/makambi/anaconda/lib/python2.7/site-packages/IPython/kernel/__main__.py:34: SettingWithCopyWarning: \n",
      "A value is trying to be set on a copy of a slice from a DataFrame.\n",
      "Try using .loc[row_indexer,col_indexer] = value instead\n",
      "\n",
      "See the the caveats in the documentation: http://pandas.pydata.org/pandas-docs/stable/indexing.html#indexing-view-versus-copy\n"
     ]
    }
   ],
   "source": [
    "def fix_missing_data_for_projects(df):\n",
    "    \n",
    "    def remove_students_reached_outliers(students):\n",
    "        if(students < 20000 or pd.isnull(students)):\n",
    "            return students\n",
    "\n",
    "        #magic, found better value\n",
    "        return 7500\n",
    "\n",
    "    #remove outliers for students reached field\n",
    "    df[\"new_students_reached\"] = df[\"students_reached\"].apply(remove_students_reached_outliers)\n",
    "    df.new_students_reached.fillna(df.new_students_reached.median(), inplace=True) \n",
    "    df[\"students_reached\"] = df[\"new_students_reached\"]\n",
    "    df.drop('new_students_reached', axis=1, inplace=True)\n",
    "\n",
    "    #fill primary focus NAs\n",
    "    df.primary_focus_subject.fillna(df.primary_focus_subject.value_counts().index[0], inplace=True)\n",
    "    df.primary_focus_area.fillna(df.primary_focus_area.value_counts().index[0], inplace=True)\n",
    "\n",
    "    df.resource_type.fillna(df.resource_type.value_counts().index[0], inplace=True)\n",
    "\n",
    "    #fill fulfillment_labor_materials\n",
    "    df.fulfillment_labor_materials.fillna(df.fulfillment_labor_materials.median(), inplace=True)\n",
    "\n",
    "    #fill grade level NA's\n",
    "    df.grade_level.fillna(df.grade_level.value_counts().index[0], inplace=True)\n",
    "\n",
    "    df.teacher_prefix.fillna(df.teacher_prefix.value_counts().index[0], inplace=True)\n",
    "\n",
    "    #optional support\n",
    "    df[\"optional_support\"] = df[\"total_price_including_optional_support\"] - df[\"total_price_excluding_optional_support\"]\n",
    "\n",
    "    #school_region\n",
    "    df[\"school_region\"] =  df[\"school_state\"].apply(lambda state: states[state.upper()])\n",
    "    \n",
    "    return df\n",
    "    \n",
    "df_projects_train = fix_missing_data_for_projects(df_projects_train)\n",
    "df_test_projects = fix_missing_data_for_projects(df_test_projects)"
   ]
  },
  {
   "cell_type": "code",
   "execution_count": 8,
   "metadata": {
    "collapsed": false
   },
   "outputs": [],
   "source": [
    "def get_teachers_data(group):\n",
    "    projects_count = len(group)\n",
    "    investments_involved = group\n",
    "    exciting_projects = len(group[group[\"is_exciting\"] == \"t\"])\n",
    "    exciting_projects_rate = 1.0 * exciting_projects / projects_count\n",
    "    fully_funded_count = len(group[group[\"fully_funded\"] == \"t\"])\n",
    "    fully_funded_rate = 1.0 * fully_funded_count / projects_count\n",
    "    green_donation_count = len(group[group[\"at_least_1_green_donation\"] == \"t\"])\n",
    "    green_donation_rate = 1.0 * green_donation_count / projects_count\n",
    "    great_chat_count = len(group[group[\"great_chat\"] == \"t\"])\n",
    "    great_chat_rate = 1.0 * great_chat_count / projects_count\n",
    "    teacher_referred_count_mean = group[\"teacher_referred_count\"].median()\n",
    "    donation_from_thoughtful_donor_count = len(group[\"donation_from_thoughtful_donor\"] == \"t\")\n",
    "    donation_from_thoughtful_donor_rate = 1.0 * donation_from_thoughtful_donor_count / projects_count\n",
    "    non_teacher_referred_count_mean = group[\"non_teacher_referred_count\"].mean()\n",
    "    \n",
    "    return pd.Series([projects_count, exciting_projects, exciting_projects_rate, fully_funded_count, \n",
    "                      fully_funded_rate, green_donation_count, green_donation_rate, great_chat_count,\n",
    "                     great_chat_rate, teacher_referred_count_mean, donation_from_thoughtful_donor_count,\n",
    "                     donation_from_thoughtful_donor_rate, non_teacher_referred_count_mean], \n",
    "                     index=['teacher_projects_count', 'teacher_exciting_projects', 'teacher_exciting_projects_rate', \n",
    "                            'teacher_fully_funded_count', 'teacher_fully_funded_rate', \n",
    "                            'teacher_green_donation_count', 'teacher_green_donation_rate', \n",
    "                            'teacher_great_chat_count', 'teacher_great_chat_rate', \n",
    "                            'teacher_referred_count_mean', 'teacher_donation_from_thoughtful_donor_count',\n",
    "                            'teacher_donation_from_thoughtful_donor_rate', 'teacher_non_teacher_referred_count_mean'])\n",
    "\n",
    "teachers = df_projects_train.head().groupby('teacher_acctid').apply(get_teachers_data)"
   ]
  },
  {
   "cell_type": "code",
   "execution_count": 11,
   "metadata": {
    "collapsed": false
   },
   "outputs": [
    {
     "data": {
      "text/plain": [
       "(131329, 47)"
      ]
     },
     "execution_count": 11,
     "metadata": {},
     "output_type": "execute_result"
    }
   ],
   "source": [
    "df_projects_train."
   ]
  },
  {
   "cell_type": "code",
   "execution_count": 25,
   "metadata": {
    "collapsed": true
   },
   "outputs": [],
   "source": [
    "def get_schools_data(group):\n",
    "    projects_count = len(group)\n",
    "    exciting_projects = len(group[group[\"is_exciting\"] == \"t\"])\n",
    "    exciting_projects_rate = 1.0 * exciting_projects / projects_count\n",
    "    fully_funded_count = len(group[group[\"fully_funded\"] == \"t\"])\n",
    "    fully_funded_rate = 1.0 * fully_funded_count / projects_count\n",
    "    green_donation_count = len(group[group[\"at_least_1_green_donation\"] == \"t\"])\n",
    "    green_donation_rate = 1.0 * green_donation_count / projects_count\n",
    "    great_chat_count = len(group[group[\"great_chat\"] == \"t\"])\n",
    "    great_chat_rate = 1.0 * great_chat_count / projects_count\n",
    "    teacher_referred_count_mean = group[\"teacher_referred_count\"].mean()\n",
    "    donation_from_thoughtful_donor_count = len(group[\"donation_from_thoughtful_donor\"] == \"t\")\n",
    "    donation_from_thoughtful_donor_rate = 1.0 * donation_from_thoughtful_donor_count / projects_count\n",
    "    non_teacher_referred_count_mean = group[\"non_teacher_referred_count\"].mean()\n",
    "    \n",
    "    return pd.Series([projects_count, exciting_projects, exciting_projects_rate, fully_funded_count, \n",
    "                      fully_funded_rate, green_donation_count, green_donation_rate, great_chat_count,\n",
    "                     great_chat_rate, teacher_referred_count_mean, donation_from_thoughtful_donor_count,\n",
    "                     donation_from_thoughtful_donor_rate, non_teacher_referred_count_mean], \n",
    "                     index=['school_projects_count', 'school_exciting_projects', 'school_exciting_projects_rate', 'school_fully_funded_count', \n",
    "                            'school_fully_funded_rate', 'school_green_donation_count', 'school_green_donation_rate', 'school_great_chat_count'\n",
    "                            ,'school_great_chat_rate', 'school_teacher_referred_count_mean', 'school_donation_from_thoughtful_donor_count',\n",
    "                           'school_donation_from_thoughtful_donor_rate', 'school_non_teacher_referred_count_mean'])\n",
    "\n",
    "schools = df_projects_train.groupby('schoolid').apply(get_schools_data)"
   ]
  },
  {
   "cell_type": "code",
   "execution_count": 26,
   "metadata": {
    "collapsed": false
   },
   "outputs": [],
   "source": [
    "teachers.to_csv(\"train-data/teachers.csv\")\n",
    "schools.to_csv(\"train-data/schools.csv\")"
   ]
  },
  {
   "cell_type": "code",
   "execution_count": 27,
   "metadata": {
    "collapsed": false
   },
   "outputs": [
    {
     "data": {
      "text/plain": [
       "teacher_projects_count                             0\n",
       "teacher_exciting_projects                          0\n",
       "teacher_exciting_projects_rate                     0\n",
       "teacher_fully_funded_count                         0\n",
       "teacher_fully_funded_rate                          0\n",
       "teacher_green_donation_count                       0\n",
       "teacher_green_donation_rate                        0\n",
       "teacher_great_chat_count                           0\n",
       "teacher_great_chat_rate                            0\n",
       "teacher_referred_count_mean                     8146\n",
       "teacher_donation_from_thoughtful_donor_count       0\n",
       "teacher_donation_from_thoughtful_donor_rate        0\n",
       "teacher_non_teacher_referred_count_mean         8146\n",
       "dtype: int64"
      ]
     },
     "execution_count": 27,
     "metadata": {},
     "output_type": "execute_result"
    }
   ],
   "source": [
    "teachers.isnull().sum()"
   ]
  },
  {
   "cell_type": "code",
   "execution_count": null,
   "metadata": {
    "collapsed": true
   },
   "outputs": [],
   "source": []
  },
  {
   "cell_type": "code",
   "execution_count": null,
   "metadata": {
    "collapsed": true
   },
   "outputs": [],
   "source": []
  },
  {
   "cell_type": "code",
   "execution_count": null,
   "metadata": {
    "collapsed": true
   },
   "outputs": [],
   "source": []
  },
  {
   "cell_type": "code",
   "execution_count": null,
   "metadata": {
    "collapsed": true
   },
   "outputs": [],
   "source": []
  },
  {
   "cell_type": "code",
   "execution_count": null,
   "metadata": {
    "collapsed": true
   },
   "outputs": [],
   "source": []
  }
 ],
 "metadata": {
  "kernelspec": {
   "display_name": "Python 2",
   "language": "python",
   "name": "python2"
  },
  "language_info": {
   "codemirror_mode": {
    "name": "ipython",
    "version": 2
   },
   "file_extension": ".py",
   "mimetype": "text/x-python",
   "name": "python",
   "nbconvert_exporter": "python",
   "pygments_lexer": "ipython2",
   "version": "2.7.10"
  }
 },
 "nbformat": 4,
 "nbformat_minor": 0
}
